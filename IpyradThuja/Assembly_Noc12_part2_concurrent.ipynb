{
 "cells": [
  {
   "cell_type": "code",
   "execution_count": 1,
   "metadata": {},
   "outputs": [],
   "source": [
    "## Imports\n",
    "## -------------------------------------------------------------------------------------------\n",
    "import ipyrad as ip\n",
    "import ipyparallel as ipp\n",
    "import ipyrad.analysis as ipa"
   ]
  },
  {
   "cell_type": "code",
   "execution_count": 2,
   "metadata": {},
   "outputs": [],
   "source": [
    "## Start Ipcluster\n",
    "## -------------------------------------------------------------------------------------------\n",
    "## run the below line in terminal, or with '!' in jupyter notebooks\n",
    "## !ipcluster start -n 40 --cluster-id=\"ipyrad\" --daemonize\n",
    "## this will stop the ipcluster\n",
    "## !ipcluster stop --cluster-id=\"ipyrad\" \n",
    "\n",
    "## link the cluster with ipyclient\n",
    "ipyclient = ipp.Client(cluster_id=\"ipyrad\")"
   ]
  },
  {
   "cell_type": "code",
   "execution_count": 3,
   "metadata": {},
   "outputs": [
    {
     "name": "stdout",
     "output_type": "stream",
     "text": [
      "40\n"
     ]
    }
   ],
   "source": [
    "## check to make sure the client is working by printing cores ready to go\n",
    "print(len(ipyclient))"
   ]
  },
  {
   "cell_type": "code",
   "execution_count": 4,
   "metadata": {},
   "outputs": [
    {
     "name": "stdout",
     "output_type": "stream",
     "text": [
      "New Assembly: thuja_lib2\n"
     ]
    },
    {
     "data": {
      "text/plain": [
       "0   assembly_name               thuja_lib2                                   \n",
       "1   project_dir                 /mnt/lfs2/ruff6699/IpyradThujaAssembly       \n",
       "2   raw_fastq_path              ./*lib2.fastq.gz                             \n",
       "3   barcodes_path               ./barcodes_lib2.txt                          \n",
       "4   sorted_fastq_path                                                        \n",
       "5   assembly_method             denovo                                       \n",
       "6   reference_sequence                                                       \n",
       "7   datatype                    ddrad                                        \n",
       "8   restriction_overhang        ('TGCAG', 'AATT')                            \n",
       "9   max_low_qual_bases          5                                            \n",
       "10  phred_Qscore_offset         33                                           \n",
       "11  mindepth_statistical        6                                            \n",
       "12  mindepth_majrule            6                                            \n",
       "13  maxdepth                    10000                                        \n",
       "14  clust_threshold             0.85                                         \n",
       "15  max_barcode_mismatch        0                                            \n",
       "16  filter_adapters             0                                            \n",
       "17  filter_min_trim_len         35                                           \n",
       "18  max_alleles_consens         2                                            \n",
       "19  max_Ns_consens              0.05                                         \n",
       "20  max_Hs_consens              0.05                                         \n",
       "21  min_samples_locus           4                                            \n",
       "22  max_SNPs_locus              0.2                                          \n",
       "23  max_Indels_locus            8                                            \n",
       "24  max_shared_Hs_locus         0.5                                          \n",
       "25  trim_reads                  (0, 0, 0, 0)                                 \n",
       "26  trim_loci                   (0, 0, 0, 0)                                 \n",
       "27  output_formats              ['l', 'p', 's', 'n', 'k', 'a', 'g', 'G', 'u', 'v', 't', 'm']\n",
       "28  pop_assign_file                                                          \n",
       "29  reference_as_filter                                                      "
      ]
     },
     "execution_count": 4,
     "metadata": {},
     "output_type": "execute_result"
    }
   ],
   "source": [
    "## demultiplex the second thuja library again bc three samples got left out\n",
    "data_lib2 = ip.Assembly(\"thuja_lib2\")\n",
    "data_lib2.set_params(\"raw_fastq_path\", \"./*lib2.fastq.gz\")\n",
    "data_lib2.set_params(\"barcodes_path\", \"./barcodes_lib2.txt\")\n",
    "data_lib2.set_params(\"datatype\", \"ddrad\")\n",
    "data_lib2.set_params(\"output_formats\", \"*\")\n",
    "data_lib2.set_params(\"restriction_overhang\", (\"TGCAG\", \"AATT\"))\n",
    "\n",
    "data_lib2.get_params()"
   ]
  },
  {
   "cell_type": "code",
   "execution_count": 5,
   "metadata": {},
   "outputs": [
    {
     "name": "stdout",
     "output_type": "stream",
     "text": [
      "Parallel connection | crick.ibest.uidaho.edu: 40 cores\n",
      "[####################] 100% 0:06:02 | chunking large files | s1 |1 |\n",
      "[####################] 100% 0:05:49 | sorting reads        | s1 |\n",
      "[####################] 100% 0:01:41 | writing/compressing  | s1 |\n"
     ]
    }
   ],
   "source": [
    "## run the first library through step 1 \n",
    "data_lib2.run(\"1\", ipyclient=ipyclient)"
   ]
  }
 ],
 "metadata": {
  "kernelspec": {
   "display_name": "Python 2",
   "language": "python",
   "name": "python2"
  },
  "language_info": {
   "codemirror_mode": {
    "name": "ipython",
    "version": 2
   },
   "file_extension": ".py",
   "mimetype": "text/x-python",
   "name": "python",
   "nbconvert_exporter": "python",
   "pygments_lexer": "ipython2",
   "version": "2.7.17"
  }
 },
 "nbformat": 4,
 "nbformat_minor": 2
}
