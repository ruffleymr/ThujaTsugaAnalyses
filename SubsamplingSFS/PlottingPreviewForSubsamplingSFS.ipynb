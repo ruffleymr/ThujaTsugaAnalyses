{
 "cells": [
  {
   "cell_type": "code",
   "execution_count": 1,
   "metadata": {},
   "outputs": [],
   "source": [
    "## This Notebook has a function to plot the Preview output from the easySFS.py function\n",
    "## Megan Ruffley\n",
    "\n",
    "## easySFS.py function written by I.Overcast.\n",
    "## Full info on easySFS.py download and installation: https://github.com/isaacovercast/easySFS"
   ]
  },
  {
   "cell_type": "code",
   "execution_count": 2,
   "metadata": {},
   "outputs": [],
   "source": [
    "## Imports needed\n",
    "import random\n",
    "import numpy as np\n",
    "import matplotlib.pyplot as plt\n",
    "import seaborn as sns\n",
    "#plt.style.use('seaborn-whitegrid')"
   ]
  },
  {
   "cell_type": "code",
   "execution_count": 3,
   "metadata": {},
   "outputs": [
    {
     "name": "stdout",
     "output_type": "stream",
     "text": [
      "usage: easySFS.py [-h] [-a] -i VCF_NAME -p POPULATIONS [--proj PROJECTIONS]\r\n",
      "                  [--preview] [-o OUTDIR] [--ploidy PLOIDY] [--prefix PREFIX]\r\n",
      "                  [--unfolded] [--dtype DTYPE] [--GQ GQUAL] [-f] [-v]\r\n",
      "\r\n",
      "optional arguments:\r\n",
      "  -h, --help          show this help message and exit\r\n",
      "  -a                  Keep all snps within each RAD locus (ie. do _not_\r\n",
      "                      randomly sample 1 snp per locus).\r\n",
      "  -i VCF_NAME         name of the VCF input file being converted\r\n",
      "  -p POPULATIONS      Input file containing population assignments per\r\n",
      "                      individual\r\n",
      "  --proj PROJECTIONS  List of values for projecting populations down to\r\n",
      "                      different sample sizes\r\n",
      "  --preview           Preview the number of segragating sites per population\r\n",
      "                      for different projection values.\r\n",
      "  -o OUTDIR           Directory to write output SFS to\r\n",
      "  --ploidy PLOIDY     Specify ploidy. Default is 2. Only other option is 1 for\r\n",
      "                      haploid.\r\n",
      "  --prefix PREFIX     Prefix for all output SFS files names.\r\n",
      "  --unfolded          Generate unfolded SFS. This assumes that your vcf file\r\n",
      "                      is accurately polarized.\r\n",
      "  --dtype DTYPE       Data type for use in output sfs. Options are `int` and\r\n",
      "                      `float`. Default is `float`.\r\n",
      "  --GQ GQUAL          minimum genotype quality tolerated\r\n",
      "  -f                  Force overwriting directories and existing files.\r\n",
      "  -v                  Set verbosity. Dump tons of info to the screen\r\n",
      "\r\n",
      "    \r\n"
     ]
    }
   ],
   "source": [
    "## use the ! to run in terminal\n",
    "!./easySFS.py"
   ]
  },
  {
   "cell_type": "code",
   "execution_count": 4,
   "metadata": {},
   "outputs": [
    {
     "name": "stdout",
     "output_type": "stream",
     "text": [
      "./easySFS.py:457: DeprecationWarning: 'U' mode is deprecated\n",
      "  with open(pops_file, 'rU') as popsfile:\n",
      "./easySFS.py:389: DeprecationWarning: 'U' mode is deprecated\n",
      "  with ofunc(vcf_name, 'rU') as infile:\n"
     ]
    }
   ],
   "source": [
    "## Run this to generate the preview for SS values and sample combos for when projecting down each population\n",
    "## put the output of this into a file named \"Preview_linked.txt\"\n",
    "!./easySFS.py -i MinSamp4/mergedThuja_minsamp4.vcf -p popFile.txt -a --preview > Preview_Linked_MinSamp4.txt"
   ]
  },
  {
   "cell_type": "code",
   "execution_count": 5,
   "metadata": {},
   "outputs": [
    {
     "name": "stdout",
     "output_type": "stream",
     "text": [
      "Processing 2 populations - odict_keys(['coast', 'inland'])\r\n",
      "\r\n",
      "    Running preview mode. We will print out the results for # of segregating sites\r\n",
      "    for multiple values of projecting down for each population. The dadi\r\n",
      "    manual recommends maximizing the # of seg sites for projections, but also\r\n",
      "    a balance must be struck between # of seg sites and sample size.\r\n",
      "\r\n",
      "    For each population you should choose the value of the projection that looks\r\n",
      "    best and then rerun easySFS with the `--proj` flag.\r\n",
      "    \r\n",
      "coast\r\n",
      "(2, 46147.0)\t(3, 67405.0)\t(4, 80407.0)\t(5, 79271.0)\t(6, 85795.0)\t(7, 76949.0)\t(8, 80804.0)\t(9, 67942.0)\t(10, 70415.0)\t(11, 59614.0)\t(12, 61304.0)\t(13, 51410.0)\t(14, 52612.0)\t(15, 44554.0)\t(16, 45437.0)\t(17, 38263.0)\t(18, 38923.0)\t(19, 33096.0)\t(20, 33601.0)\t(21, 28389.0)\t(22, 28777.0)\t(23, 24139.0)\t(24, 24434.0)\t(25, 20700.0)\t(26, 20933.0)\t(27, 17740.0)\t(28, 17923.0)\t(29, 15244.0)\t(30, 15391.0)\t(31, 13267.0)\t(32, 13387.0)\t(33, 11456.0)\t(34, 11552.0)\t(35, 10019.0)\t(36, 10100.0)\t(37, 8769.0)\t(38, 8835.0)\t(39, 7767.0)\t(40, 7822.0)\t(41, 6806.0)\t(42, 6852.0)\t(43, 6035.0)\t(44, 6074.0)\t(45, 5309.0)\t(46, 5342.0)\t(47, 4565.0)\t(48, 4592.0)\t(49, 3920.0)\t(50, 3942.0)\t(51, 3352.0)\t(52, 3370.0)\t(53, 2821.0)\t(54, 2835.0)\t(55, 2423.0)\t(56, 2434.0)\t(57, 2079.0)\t(58, 2088.0)\t(59, 1758.0)\t(60, 1765.0)\t(61, 1419.0)\t(62, 1425.0)\t(63, 1162.0)\t(64, 1166.0)\t(65, 961.0)\t(66, 964.0)\t(67, 844.0)\t(68, 847.0)\t(69, 755.0)\t(70, 757.0)\t(71, 672.0)\t(72, 674.0)\t(73, 616.0)\t(74, 618.0)\t(75, 538.0)\t(76, 539.0)\t(77, 454.0)\t(78, 455.0)\t(79, 383.0)\t(80, 383.0)\t(81, 344.0)\t(82, 344.0)\t(83, 292.0)\t(84, 292.0)\t(85, 246.0)\t(86, 247.0)\t(87, 185.0)\t(88, 185.0)\t(89, 142.0)\t(90, 143.0)\t(91, 82.0)\t(92, 82.0)\t(93, 55.0)\t(94, 55.0)\t(95, 24.0)\t(96, 24.0)\t(97, 4.0)\t(98, 4.0)\t(99, 0.0)\t(100, 0.0)\t(101, 0.0)\t(102, 0.0)\t\r\n",
      "\r\n",
      "\r\n",
      "inland\r\n",
      "(2, 39962.0)\t(3, 58039.0)\t(4, 69069.0)\t(5, 67272.0)\t(6, 72654.0)\t(7, 62742.0)\t(8, 65768.0)\t(9, 51279.0)\t(10, 53117.0)\t(11, 42696.0)\t(12, 43909.0)\t(13, 35618.0)\t(14, 36462.0)\t(15, 30343.0)\t(16, 30960.0)\t(17, 26087.0)\t(18, 26547.0)\t(19, 22503.0)\t(20, 22854.0)\t(21, 19792.0)\t(22, 20067.0)\t(23, 17297.0)\t(24, 17514.0)\t(25, 15372.0)\t(26, 15552.0)\t(27, 13739.0)\t(28, 13888.0)\t(29, 12311.0)\t(30, 12435.0)\t(31, 11040.0)\t(32, 11145.0)\t(33, 9891.0)\t(34, 9979.0)\t(35, 8922.0)\t(36, 8996.0)\t(37, 8003.0)\t(38, 8067.0)\t(39, 7214.0)\t(40, 7269.0)\t(41, 6502.0)\t(42, 6550.0)\t(43, 5850.0)\t(44, 5892.0)\t(45, 5249.0)\t(46, 5285.0)\t(47, 4732.0)\t(48, 4764.0)\t(49, 4222.0)\t(50, 4249.0)\t(51, 3818.0)\t(52, 3842.0)\t(53, 3473.0)\t(54, 3495.0)\t(55, 3176.0)\t(56, 3196.0)\t(57, 2919.0)\t(58, 2936.0)\t(59, 2689.0)\t(60, 2704.0)\t(61, 2493.0)\t(62, 2507.0)\t(63, 2283.0)\t(64, 2295.0)\t(65, 2114.0)\t(66, 2125.0)\t(67, 1944.0)\t(68, 1954.0)\t(69, 1799.0)\t(70, 1808.0)\t(71, 1694.0)\t(72, 1702.0)\t(73, 1600.0)\t(74, 1607.0)\t(75, 1521.0)\t(76, 1528.0)\t(77, 1423.0)\t(78, 1430.0)\t(79, 1339.0)\t(80, 1344.0)\t(81, 1270.0)\t(82, 1275.0)\t(83, 1199.0)\t(84, 1204.0)\t(85, 1114.0)\t(86, 1119.0)\t(87, 1047.0)\t(88, 1052.0)\t(89, 982.0)\t(90, 986.0)\t(91, 916.0)\t(92, 919.0)\t(93, 866.0)\t(94, 869.0)\t(95, 824.0)\t(96, 827.0)\t(97, 771.0)\t(98, 774.0)\t(99, 707.0)\t(100, 709.0)\t(101, 671.0)\t(102, 673.0)\t(103, 634.0)\t(104, 636.0)\t(105, 605.0)\t(106, 608.0)\t(107, 582.0)\t(108, 584.0)\t(109, 547.0)\t(110, 549.0)\t(111, 502.0)\t(112, 503.0)\t(113, 469.0)\t(114, 471.0)\t(115, 438.0)\t(116, 440.0)\t(117, 401.0)\t(118, 403.0)\t(119, 368.0)\t(120, 369.0)\t(121, 349.0)\t(122, 350.0)\t(123, 329.0)\t(124, 330.0)\t(125, 309.0)\t(126, 311.0)\t(127, 297.0)\t(128, 298.0)\t(129, 275.0)\t(130, 276.0)\t(131, 264.0)\t(132, 265.0)\t(133, 261.0)\t(134, 261.0)\t(135, 248.0)\t(136, 249.0)\t(137, 245.0)\t(138, 246.0)\t(139, 238.0)\t(140, 239.0)\t(141, 225.0)\t(142, 226.0)\t(143, 210.0)\t(144, 211.0)\t(145, 187.0)\t(146, 187.0)\t(147, 167.0)\t(148, 167.0)\t(149, 136.0)\t(150, 136.0)\t(151, 116.0)\t(152, 117.0)\t(153, 88.0)\t(154, 88.0)\t(155, 69.0)\t(156, 70.0)\t(157, 39.0)\t(158, 39.0)\t(159, 2.0)\t(160, 2.0)\t(161, 0.0)\t(162, 0.0)\t(163, 0.0)\t(164, 0.0)\t(165, 0.0)\t(166, 0.0)\t(167, 0.0)\t(168, 0.0)\t(169, 0.0)\t(170, 0.0)\t(171, 0.0)\t(172, 0.0)\t\r\n",
      "\r\n",
      "\r\n"
     ]
    }
   ],
   "source": [
    "!cat Preview_Linked_MinSamp4.txt"
   ]
  },
  {
   "cell_type": "code",
   "execution_count": null,
   "metadata": {},
   "outputs": [],
   "source": [
    "## Run this to generate the preview for SS values and sample combos for when projecting down each population\n",
    "## put the output of this into a file named \"Preview.txt\"\n",
    "!./easySFS.py -i MinSamp4/mergedThuja_minsamp4.vcf -p popFile.txt --preview > Preview_MinSamp4.txt"
   ]
  },
  {
   "cell_type": "code",
   "execution_count": 283,
   "metadata": {},
   "outputs": [
    {
     "name": "stdout",
     "output_type": "stream",
     "text": [
      "Processing 2 populations - odict_keys(['coast', 'inland'])\r\n",
      "  Sampling one snp per locus\r\n",
      "\r\n",
      "    Running preview mode. We will print out the results for # of segregating sites\r\n",
      "    for multiple values of projecting down for each population. The dadi\r\n",
      "    manual recommends maximizing the # of seg sites for projections, but also\r\n",
      "    a balance must be struck between # of seg sites and sample size.\r\n",
      "\r\n",
      "    For each population you should choose the value of the projection that looks\r\n",
      "    best and then rerun easySFS with the `--proj` flag.\r\n",
      "    \r\n",
      "coast\r\n",
      "(2, 14850.0)\t(3, 21589.0)\t(4, 25880.0)\t(5, 25831.0)\t(6, 28031.0)\t(7, 25430.0)\t(8, 26758.0)\t(9, 22441.0)\t(10, 23296.0)\t(11, 19678.0)\t(12, 20263.0)\t(13, 16980.0)\t(14, 17396.0)\t(15, 14729.0)\t(16, 15038.0)\t(17, 12630.0)\t(18, 12860.0)\t(19, 10925.0)\t(20, 11101.0)\t(21, 9281.0)\t(22, 9415.0)\t(23, 7881.0)\t(24, 7983.0)\t(25, 6746.0)\t(26, 6827.0)\t(27, 5802.0)\t(28, 5865.0)\t(29, 4993.0)\t(30, 5044.0)\t(31, 4333.0)\t(32, 4375.0)\t(33, 3752.0)\t(34, 3786.0)\t(35, 3287.0)\t(36, 3315.0)\t(37, 2882.0)\t(38, 2905.0)\t(39, 2565.0)\t(40, 2584.0)\t(41, 2247.0)\t(42, 2263.0)\t(43, 1983.0)\t(44, 1996.0)\t(45, 1766.0)\t(46, 1777.0)\t(47, 1535.0)\t(48, 1544.0)\t(49, 1326.0)\t(50, 1333.0)\t(51, 1133.0)\t(52, 1139.0)\t(53, 957.0)\t(54, 962.0)\t(55, 833.0)\t(56, 837.0)\t(57, 711.0)\t(58, 714.0)\t(59, 609.0)\t(60, 612.0)\t(61, 509.0)\t(62, 511.0)\t(63, 425.0)\t(64, 427.0)\t(65, 360.0)\t(66, 361.0)\t(67, 318.0)\t(68, 319.0)\t(69, 290.0)\t(70, 291.0)\t(71, 262.0)\t(72, 262.0)\t(73, 241.0)\t(74, 242.0)\t(75, 206.0)\t(76, 207.0)\t(77, 173.0)\t(78, 173.0)\t(79, 144.0)\t(80, 145.0)\t(81, 123.0)\t(82, 123.0)\t(83, 101.0)\t(84, 101.0)\t(85, 87.0)\t(86, 87.0)\t(87, 71.0)\t(88, 71.0)\t(89, 57.0)\t(90, 57.0)\t(91, 32.0)\t(92, 32.0)\t(93, 22.0)\t(94, 22.0)\t(95, 8.0)\t(96, 8.0)\t(97, 2.0)\t(98, 2.0)\t(99, 0.0)\t(100, 0.0)\t(101, 0.0)\t(102, 0.0)\t\r\n",
      "\r\n",
      "\r\n",
      "inland\r\n",
      "(2, 12546.0)\t(3, 18042.0)\t(4, 21594.0)\t(5, 21325.0)\t(6, 23123.0)\t(7, 20440.0)\t(8, 21487.0)\t(9, 16933.0)\t(10, 17570.0)\t(11, 14271.0)\t(12, 14696.0)\t(13, 12033.0)\t(14, 12329.0)\t(15, 10326.0)\t(16, 10543.0)\t(17, 8933.0)\t(18, 9097.0)\t(19, 7742.0)\t(20, 7867.0)\t(21, 6836.0)\t(22, 6936.0)\t(23, 5950.0)\t(24, 6028.0)\t(25, 5275.0)\t(26, 5339.0)\t(27, 4716.0)\t(28, 4768.0)\t(29, 4240.0)\t(30, 4285.0)\t(31, 3797.0)\t(32, 3835.0)\t(33, 3385.0)\t(34, 3417.0)\t(35, 3043.0)\t(36, 3069.0)\t(37, 2726.0)\t(38, 2749.0)\t(39, 2446.0)\t(40, 2466.0)\t(41, 2222.0)\t(42, 2239.0)\t(43, 2017.0)\t(44, 2032.0)\t(45, 1821.0)\t(46, 1834.0)\t(47, 1660.0)\t(48, 1671.0)\t(49, 1488.0)\t(50, 1498.0)\t(51, 1350.0)\t(52, 1359.0)\t(53, 1235.0)\t(54, 1243.0)\t(55, 1144.0)\t(56, 1151.0)\t(57, 1074.0)\t(58, 1081.0)\t(59, 1003.0)\t(60, 1009.0)\t(61, 931.0)\t(62, 937.0)\t(63, 876.0)\t(64, 880.0)\t(65, 816.0)\t(66, 820.0)\t(67, 757.0)\t(68, 761.0)\t(69, 702.0)\t(70, 705.0)\t(71, 674.0)\t(72, 677.0)\t(73, 639.0)\t(74, 642.0)\t(75, 608.0)\t(76, 611.0)\t(77, 567.0)\t(78, 570.0)\t(79, 536.0)\t(80, 539.0)\t(81, 518.0)\t(82, 520.0)\t(83, 492.0)\t(84, 494.0)\t(85, 463.0)\t(86, 465.0)\t(87, 444.0)\t(88, 446.0)\t(89, 431.0)\t(90, 433.0)\t(91, 416.0)\t(92, 417.0)\t(93, 395.0)\t(94, 397.0)\t(95, 378.0)\t(96, 380.0)\t(97, 358.0)\t(98, 360.0)\t(99, 340.0)\t(100, 341.0)\t(101, 319.0)\t(102, 321.0)\t(103, 301.0)\t(104, 302.0)\t(105, 291.0)\t(106, 292.0)\t(107, 285.0)\t(108, 286.0)\t(109, 271.0)\t(110, 272.0)\t(111, 255.0)\t(112, 256.0)\t(113, 241.0)\t(114, 242.0)\t(115, 228.0)\t(116, 229.0)\t(117, 209.0)\t(118, 210.0)\t(119, 198.0)\t(120, 199.0)\t(121, 194.0)\t(122, 194.0)\t(123, 187.0)\t(124, 187.0)\t(125, 180.0)\t(126, 181.0)\t(127, 172.0)\t(128, 173.0)\t(129, 164.0)\t(130, 165.0)\t(131, 159.0)\t(132, 160.0)\t(133, 156.0)\t(134, 157.0)\t(135, 150.0)\t(136, 150.0)\t(137, 148.0)\t(138, 148.0)\t(139, 145.0)\t(140, 145.0)\t(141, 141.0)\t(142, 141.0)\t(143, 132.0)\t(144, 133.0)\t(145, 123.0)\t(146, 124.0)\t(147, 109.0)\t(148, 109.0)\t(149, 91.0)\t(150, 91.0)\t(151, 78.0)\t(152, 78.0)\t(153, 59.0)\t(154, 60.0)\t(155, 45.0)\t(156, 45.0)\t(157, 24.0)\t(158, 24.0)\t(159, 1.0)\t(160, 1.0)\t(161, 0.0)\t(162, 0.0)\t(163, 0.0)\t(164, 0.0)\t(165, 0.0)\t(166, 0.0)\t(167, 0.0)\t(168, 0.0)\t(169, 0.0)\t(170, 0.0)\t(171, 0.0)\t(172, 0.0)\t\r\n",
      "\r\n",
      "\r\n"
     ]
    }
   ],
   "source": [
    "## Can run terminal commands with !\n",
    "## Cat allows you too see all of the content in a file\n",
    "!cat Preview_MinSamp4.txt"
   ]
  },
  {
   "cell_type": "code",
   "execution_count": 14,
   "metadata": {},
   "outputs": [
    {
     "name": "stdout",
     "output_type": "stream",
     "text": [
      "./easySFS.py:457: DeprecationWarning: 'U' mode is deprecated\n",
      "  with open(pops_file, 'rU') as popsfile:\n",
      "Processing 2 populations - odict_keys(['coast', 'inland'])\n",
      "./easySFS.py:389: DeprecationWarning: 'U' mode is deprecated\n",
      "  with ofunc(vcf_name, 'rU') as infile:\n",
      "Doing 1D sfs - coast\n",
      "Doing 1D sfs - inland\n",
      "Doing 2D sfs - ('coast', 'inland')\n",
      "Doing multiSFS for all pops\n"
     ]
    }
   ],
   "source": [
    "!./easySFS.py -i MinSamp4/mergedThuja_minsamp4.vcf -p popFile.txt -a --proj=17,14 -o jAFS_d3_ForParamEst.obs"
   ]
  },
  {
   "cell_type": "code",
   "execution_count": 7,
   "metadata": {},
   "outputs": [],
   "source": [
    "## This function takes the output of the Preview file generated above and makes a plot of the SS by the samples\n",
    "\n",
    "def plotPreview(infile, outpng, zoom=False, yaxis=10000, addHoriz=False, \n",
    "                liney=5000, addVert=False, linex=25):\n",
    "    \n",
    "    dat = open(infile, \"r\")\n",
    "    SSpop1_pop2 = []\n",
    "    Xpop1_pop2 = []\n",
    "    \n",
    "    ContentLines = []\n",
    "    for line in dat.readlines():\n",
    "        if line[0] == \"(\":\n",
    "            ContentLines.append(line)\n",
    "     \n",
    "    #print(ContentLines[0])\n",
    "    for line in ContentLines:\n",
    "        \n",
    "        SS = []\n",
    "        x = []\n",
    "        tuplesList = line.split(\"\\t\")[0:-1]\n",
    "        #print(tuplesList)\n",
    "        \n",
    "        for tuple in tuplesList:\n",
    "            #print(tuple.split(\",\")[1][0:-1])\n",
    "            SS.append(float(tuple.split(\",\")[1][0:-1]))\n",
    "            x.append(tuple.split(\",\")[0][1:])\n",
    "            \n",
    "        SSpop1_pop2.append(SS)\n",
    "        Xpop1_pop2.append(x)\n",
    "\n",
    "    plt.plot(Xpop1_pop2[0], SSpop1_pop2[0], \"-o\", label=\"pop1\", markersize=3, linewidth=1)\n",
    "    plt.plot(Xpop1_pop2[1], SSpop1_pop2[1], \"-o\", label=\"pop2\", c=\"m\", markersize=3, linewidth=1)\n",
    "    plt.xticks(np.arange(2, len(SSpop1_pop2[1]) , step=20))\n",
    "    plt.legend([\"Pop1\", \"Pop2\"])\n",
    "    \n",
    "    outFile = outpng + \".png\"\n",
    "    plt.savefig(outFile, bbox_inches='tight',  dpi=300)\n",
    "    \n",
    "    if zoom==True:\n",
    "        ## change zoom amount here\n",
    "        plt.ylim(0,yaxis)\n",
    "    if addHoriz==True:\n",
    "        plt.axhline(y=liney, color='k', linestyle='-')\n",
    "    if addVert==True:\n",
    "        plt.axvline(x=linex, color='r', linestyle='-')\n",
    "    plt.show()\n"
   ]
  },
  {
   "cell_type": "code",
   "execution_count": 3,
   "metadata": {},
   "outputs": [
    {
     "data": {
      "image/png": "[encoded data removed]",
      "text/plain": [
       "<Figure size 432x288 with 1 Axes>"
      ]
     },
     "metadata": {
      "needs_background": "light"
     },
     "output_type": "display_data"
    }
   ],
   "source": [
    "## Use preview file as the infile\n",
    "\n",
    "plotPreview(infile=\"Preview_MinSamp4.txt\")"
   ]
  },
  {
   "cell_type": "code",
   "execution_count": 19,
   "metadata": {},
   "outputs": [
    {
     "data": {
      "image/png": "[encoded data removed]",
      "text/plain": [
       "<Figure size 432x288 with 1 Axes>"
      ]
     },
     "metadata": {
      "needs_background": "light"
     },
     "output_type": "display_data"
    }
   ],
   "source": [
    "## Zoom in using the zoom=True and y-axis limit\n",
    "## Can also add horizontal and vertical lines to pin-point optimal SegSites and samples\n",
    "\n",
    "plotPreview(\"Preview_MinSamp4.txt\", \n",
    "            zoom=True, yaxis=30000, \n",
    "            addHoriz=True, liney=20000,\n",
    "            addVert=True, linex=25)\n",
    "\n",
    "## We are not necessarily looking for where the lines overlap... \n",
    "## We may just be interested in using this plot to select the correct number of individuals from each pop so that \n",
    "##    the number of SNPs are equivalent."
   ]
  },
  {
   "cell_type": "code",
   "execution_count": 13,
   "metadata": {},
   "outputs": [
    {
     "data": {
      "image/png": "[encoded data removed]",
      "text/plain": [
       "<Figure size 432x288 with 1 Axes>"
      ]
     },
     "metadata": {
      "needs_background": "light"
     },
     "output_type": "display_data"
    }
   ],
   "source": [
    "## Zoom in using the zoom=True and y-axis limit\n",
    "## Can also add horizontal and vertical lines to pin-point optimal SegSites and samples\n",
    "\n",
    "plotPreview(\"Preview_Linked_MinSamp4.txt\", outpng=\"linkedSnpPreview\",\n",
    "            zoom=True, yaxis=80000, \n",
    "            addHoriz=True, liney=40000,\n",
    "            addVert=True, linex=20)\n",
    "\n",
    "## We are not necessarily looking for where the lines overlap... \n",
    "## We may just be interested in using this plot to select the correct number of individuals from each pop so that \n",
    "##    the number of SNPs are equivalent."
   ]
  }
 ],
 "metadata": {
  "kernelspec": {
   "display_name": "Python 2",
   "language": "python",
   "name": "python2"
  },
  "language_info": {
   "codemirror_mode": {
    "name": "ipython",
    "version": 2
   },
   "file_extension": ".py",
   "mimetype": "text/x-python",
   "name": "python",
   "nbconvert_exporter": "python",
   "pygments_lexer": "ipython2",
   "version": "2.7.17"
  }
 },
 "nbformat": 4,
 "nbformat_minor": 2
}
