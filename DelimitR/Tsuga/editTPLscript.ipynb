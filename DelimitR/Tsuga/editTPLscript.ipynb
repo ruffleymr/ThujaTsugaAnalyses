{
 "cells": [
  {
   "cell_type": "code",
   "execution_count": 10,
   "metadata": {},
   "outputs": [],
   "source": [
    "import math"
   ]
  },
  {
   "cell_type": "code",
   "execution_count": 11,
   "metadata": {},
   "outputs": [],
   "source": [
    "## This function will go through the folder it is in and find all of the .tpl files with the matching prefix for\n",
    "##     a given number of models and replaces the sample sizes for each pop and the number of SNPs in the tpl file\n",
    "## M. Ruffley\n",
    "## Jan 30, 2020\n",
    "\n",
    "import math\n",
    "def editTPL(prefix, numModels=1, pop1size=10, pop2size=10, snps=1000):\n",
    "    \n",
    "    for model in range(1,numModels+1,1):\n",
    "        \n",
    "        ## name the first file to work with\n",
    "        filename = prefix+\"_\"+str(model)+\".tpl\"\n",
    "        \n",
    "        ## put all of the contents here\n",
    "        with open(filename, 'r') as file :\n",
    "              filedata = file.read()\n",
    "        \n",
    "        ## put all lines here, which is what will guide what you replace\n",
    "        allLines = open(filename, 'r').readlines()\n",
    "\n",
    "        ## go through each line in file to fine the ones with sample size and snps\n",
    "        for linenum in range(0, len(allLines), 1):\n",
    "            \n",
    "            ## split up the segments of each line\n",
    "            splitLine = allLines[linenum].split(\" \")\n",
    "            \n",
    "            \n",
    "            ## if this is true, you are ready to change sample size\n",
    "            if splitLine[0] == \"//Sample\":\n",
    "                oldp1 = allLines[linenum+1]\n",
    "                oldp2 = allLines[linenum+2]\n",
    "                \n",
    "                newp1 = str(pop1size)+\"\\n\"\n",
    "                newp2 = str(pop2size)+\"\\n\"\n",
    "\n",
    "                filedata = filedata.replace(oldp1, newp1)\n",
    "                filedata = filedata.replace(oldp2, newp2)\n",
    "                print(oldp1, oldp2, newp1, newp2)\n",
    "            \n",
    "            ## use this to find where to change snps number\n",
    "            if len(splitLine) > 3:  \n",
    "                if splitLine[2] == \"independent\":\n",
    "                    oldsnp = allLines[linenum+1]\n",
    "                    newsnp = str(snps)+\"\\n\"\n",
    "                    \n",
    "                    filedata = filedata.replace(oldsnp, newsnp)\n",
    "                    print(oldsnp, newsnp)\n",
    "        \n",
    "        # Write the file out again\n",
    "        with open(filename, 'w+') as file:\n",
    "              file.write(filedata)\n",
    "        \n"
   ]
  },
  {
   "cell_type": "code",
   "execution_count": 12,
   "metadata": {},
   "outputs": [
    {
     "name": "stdout",
     "output_type": "stream",
     "text": [
      "('16\\n', '27\\n', '16\\n', '27\\n')\n",
      "('2888\\n', '1195\\n')\n",
      "('16\\n', '27\\n', '16\\n', '27\\n')\n",
      "('2888\\n', '1195\\n')\n",
      "('16\\n', '27\\n', '16\\n', '27\\n')\n",
      "('2888\\n', '1195\\n')\n",
      "('16\\n', '27\\n', '16\\n', '27\\n')\n",
      "('2888\\n', '1195\\n')\n",
      "('16\\n', '27\\n', '16\\n', '27\\n')\n",
      "('2888\\n', '1195\\n')\n",
      "('16\\n', '27\\n', '16\\n', '27\\n')\n",
      "('2888\\n', '1195\\n')\n",
      "('16\\n', '27\\n', '16\\n', '27\\n')\n",
      "('2888\\n', '1195\\n')\n",
      "('16\\n', '27\\n', '16\\n', '27\\n')\n",
      "('2888\\n', '1195\\n')\n",
      "('16\\n', '27\\n', '16\\n', '27\\n')\n",
      "('2888\\n', '1195\\n')\n",
      "('16\\n', '27\\n', '16\\n', '27\\n')\n",
      "('2888\\n', '1195\\n')\n",
      "('8\\n', '13\\n', '16\\n', '27\\n')\n",
      "('7929\\n', '1195\\n')\n"
     ]
    }
   ],
   "source": [
    "editTPL(\"./dataset6/Tsuga\", numModels=11, pop1size=16, pop2size=27, snps=1195)"
   ]
  },
  {
   "cell_type": "code",
   "execution_count": 4,
   "metadata": {},
   "outputs": [],
   "source": [
    "!cp *.tpl Dataset11/\n",
    "!cp *.est Dataset11/"
   ]
  },
  {
   "cell_type": "code",
   "execution_count": 28,
   "metadata": {},
   "outputs": [],
   "source": [
    "def writeTraitsFile(outfile, pop1name, pop2name, pop1size=10, pop2size=10):\n",
    "        import math\n",
    "        \n",
    "        TraitsOut = open(outfile, 'w+')\n",
    "        TraitsOut.write(\"traits\\tspecies\\n\")\n",
    "        \n",
    "        end1 = int(math.ceil(float(pop1size/2.0)))\n",
    "        print(end1)\n",
    "        for i in range(1, end1+1, 1):\n",
    "            if (i == end1) and (int(end1) % 2 !=0):\n",
    "                print(\"true\")\n",
    "                content = pop1name+str(i)+\"_a\\t0\\n\"\n",
    "                TraitsOut.write(content)\n",
    "            else:\n",
    "                content = pop1name+str(i)+\"_a\\t0\\n\"+ pop1name+str(i)+\"_b\\t0\\n\"\n",
    "                TraitsOut.write(content)\n",
    "        \n",
    "        end2 = int(math.ceil(float(pop1size+pop2size)/2.0))\n",
    "        print(end2)\n",
    "        \n",
    "        for k in range(end1+1, end2+1, 1):\n",
    "            if (k == end2) and (end2 % 2 !=0):\n",
    "                content = pop2name+str(k)+\"_a\\t1\\n\"\n",
    "                TraitsOut.write(content)\n",
    "            else:\n",
    "                content = pop2name+str(k)+\"_a\\t1\\n\" + pop2name+str(k)+\"_b\\t1\\n\"  \n",
    "                TraitsOut.write(content)\n",
    "        \n",
    "        TraitsOut.close()"
   ]
  },
  {
   "cell_type": "code",
   "execution_count": 30,
   "metadata": {},
   "outputs": [
    {
     "name": "stdout",
     "output_type": "stream",
     "text": [
      "8\n",
      "22\n"
     ]
    }
   ],
   "source": [
    "writeTraitsFile(\"traits_d6.txt\", \"inland\", \"coast\", pop1size=16, pop2size=27)"
   ]
  },
  {
   "cell_type": "code",
   "execution_count": 18,
   "metadata": {},
   "outputs": [
    {
     "name": "stdout",
     "output_type": "stream",
     "text": [
      "6\n",
      "16\n"
     ]
    }
   ],
   "source": [
    "writeTraitsFile(\"traits_d4.txt\", \"inland\", \"coast\", pop1size=12, pop2size=19)"
   ]
  },
  {
   "cell_type": "code",
   "execution_count": 24,
   "metadata": {},
   "outputs": [
    {
     "name": "stdout",
     "output_type": "stream",
     "text": [
      "4\n",
      "11\n"
     ]
    }
   ],
   "source": [
    "writeTraitsFile(\"traits_d2.txt\", \"inland\", \"coast\", pop1size=8, pop2size=13)"
   ]
  },
  {
   "cell_type": "code",
   "execution_count": 95,
   "metadata": {},
   "outputs": [
    {
     "name": "stdout",
     "output_type": "stream",
     "text": [
      "9\n",
      "16\n"
     ]
    }
   ],
   "source": [
    "writeTraitsFile(\"traits_17.txt\", \"coast\", \"inland\", pop1size=17, pop2size=14)"
   ]
  },
  {
   "cell_type": "code",
   "execution_count": 6,
   "metadata": {},
   "outputs": [
    {
     "name": "stdout",
     "output_type": "stream",
     "text": [
      "27\n",
      "57\n"
     ]
    }
   ],
   "source": [
    "writeTraitsFile(\"traits_d11.txt\", \"coast\", \"inland\", pop1size=54, pop2size=60)"
   ]
  }
 ],
 "metadata": {
  "kernelspec": {
   "display_name": "Python 2",
   "language": "python",
   "name": "python2"
  },
  "language_info": {
   "codemirror_mode": {
    "name": "ipython",
    "version": 2
   },
   "file_extension": ".py",
   "mimetype": "text/x-python",
   "name": "python",
   "nbconvert_exporter": "python",
   "pygments_lexer": "ipython2",
   "version": "2.7.17"
  }
 },
 "nbformat": 4,
 "nbformat_minor": 2
}
