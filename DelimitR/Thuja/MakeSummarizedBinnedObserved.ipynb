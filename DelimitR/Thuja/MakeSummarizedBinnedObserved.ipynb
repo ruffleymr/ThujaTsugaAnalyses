{
 "cells": [
  {
   "cell_type": "code",
   "execution_count": 4,
   "metadata": {},
   "outputs": [],
   "source": [
    "import os"
   ]
  },
  {
   "cell_type": "code",
   "execution_count": 5,
   "metadata": {},
   "outputs": [],
   "source": [
    "def getBins(infile, traitFile, outfile, threshold=100, nclass=5):\n",
    "    \n",
    "    ## big outfile with all binned SFS\n",
    "    BinnedOutputfile = open(outfile, \"w+\")\n",
    "    \n",
    "    ## put all lines into this object\n",
    "    allLines = open(infile, 'r').readlines()\n",
    "    \n",
    "    for i in range(2, len(allLines),1):\n",
    "        \n",
    "        tempProcFile = \"tempProcessedFile_\"+str(i)+\".obs\"\n",
    "        with open(tempProcFile, 'w+') as file :\n",
    "            file.write(allLines[i])\n",
    "        \n",
    "        tempBinnedFile = \"tempBinnFile_\"+str(i)+\".obs\"\n",
    "        cmd = \"python SFS_CreateBinned_2pops.py \"+traitFile+ \" \"+tempProcFile+\" \"+str(threshold)+\" \"+str(nclass)+ \" \"+tempBinnedFile\n",
    "        \n",
    "        os.system(cmd)\n",
    "        \n",
    "        with open(tempBinnedFile, 'r') as binFile:\n",
    "            binData = binFile.read()\n",
    "        \n",
    "        BinnedOutputfile.write(binData)\n",
    "        \n",
    "        os.system(\"rm temp*\")\n",
    "        \n",
    "    "
   ]
  },
  {
   "cell_type": "code",
   "execution_count": 7,
   "metadata": {},
   "outputs": [],
   "source": [
    "getBins(\"jSFS_dataset3.obs\", \"traits_d11.txt\", \"jSFS_dataset3_binned.obs\")"
   ]
  }
 ],
 "metadata": {
  "kernelspec": {
   "display_name": "Python 2",
   "language": "python",
   "name": "python2"
  },
  "language_info": {
   "codemirror_mode": {
    "name": "ipython",
    "version": 2
   },
   "file_extension": ".py",
   "mimetype": "text/x-python",
   "name": "python",
   "nbconvert_exporter": "python",
   "pygments_lexer": "ipython2",
   "version": "2.7.17"
  }
 },
 "nbformat": 4,
 "nbformat_minor": 2
}
